{
 "cells": [
  {
   "cell_type": "markdown",
   "metadata": {},
   "source": [
    "# Data Wrangling Project Part2: Mini Report\n",
    "\n",
    "> In this report, several insights based on the cleaned data from Part1 are provided. The research questions are as follows: \n",
    "1. The popularity of each dog \"stage\" (i.e. doggo, floofer, pupper, and puppo)\n",
    "2. The method of accessing to twitter\n",
    "3. The number of counts for retweet and favorite to get insight into popularity of tweets\n",
    "4. Relationship between retweet_count and favorite_count\n",
    "5. The proportion of image predictions that predict dog images as the first stage"
   ]
  },
  {
   "cell_type": "code",
   "execution_count": 1,
   "metadata": {},
   "outputs": [],
   "source": [
    "# Import the relevant libraries \n",
    "import numpy as np\n",
    "import pandas as pd \n",
    "import seaborn as sns \n",
    "import matplotlib.pyplot as plt\n",
    "%matplotlib inline"
   ]
  },
  {
   "cell_type": "code",
   "execution_count": 2,
   "metadata": {},
   "outputs": [],
   "source": [
    "# Read the cleaned data \n",
    "archive_master = pd.read_csv('twitter_archive_master.csv')\n",
    "predictions_master = pd.read_csv('predictions_master.csv')"
   ]
  },
  {
   "cell_type": "code",
   "execution_count": 3,
   "metadata": {},
   "outputs": [
    {
     "data": {
      "text/html": [
       "<div>\n",
       "<style scoped>\n",
       "    .dataframe tbody tr th:only-of-type {\n",
       "        vertical-align: middle;\n",
       "    }\n",
       "\n",
       "    .dataframe tbody tr th {\n",
       "        vertical-align: top;\n",
       "    }\n",
       "\n",
       "    .dataframe thead th {\n",
       "        text-align: right;\n",
       "    }\n",
       "</style>\n",
       "<table border=\"1\" class=\"dataframe\">\n",
       "  <thead>\n",
       "    <tr style=\"text-align: right;\">\n",
       "      <th></th>\n",
       "      <th>tweet_id</th>\n",
       "      <th>timestamp</th>\n",
       "      <th>source</th>\n",
       "      <th>text</th>\n",
       "      <th>rating_numerator</th>\n",
       "      <th>rating_denominator</th>\n",
       "      <th>name</th>\n",
       "      <th>dog_stage</th>\n",
       "      <th>retweet_count</th>\n",
       "      <th>favorite_count</th>\n",
       "    </tr>\n",
       "  </thead>\n",
       "  <tbody>\n",
       "    <tr>\n",
       "      <th>0</th>\n",
       "      <td>892420643555336193</td>\n",
       "      <td>2017-08-01 16:23:56+00:00</td>\n",
       "      <td>Twitter for iPhone</td>\n",
       "      <td>This is Phineas. He's a mystical boy. Only eve...</td>\n",
       "      <td>13</td>\n",
       "      <td>10</td>\n",
       "      <td>Phineas</td>\n",
       "      <td>NaN</td>\n",
       "      <td>7561.0</td>\n",
       "      <td>35745.0</td>\n",
       "    </tr>\n",
       "    <tr>\n",
       "      <th>1</th>\n",
       "      <td>892177421306343426</td>\n",
       "      <td>2017-08-01 00:17:27+00:00</td>\n",
       "      <td>Twitter for iPhone</td>\n",
       "      <td>This is Tilly. She's just checking pup on you....</td>\n",
       "      <td>13</td>\n",
       "      <td>10</td>\n",
       "      <td>Tilly</td>\n",
       "      <td>NaN</td>\n",
       "      <td>5601.0</td>\n",
       "      <td>30882.0</td>\n",
       "    </tr>\n",
       "    <tr>\n",
       "      <th>2</th>\n",
       "      <td>891815181378084864</td>\n",
       "      <td>2017-07-31 00:18:03+00:00</td>\n",
       "      <td>Twitter for iPhone</td>\n",
       "      <td>This is Archie. He is a rare Norwegian Pouncin...</td>\n",
       "      <td>12</td>\n",
       "      <td>10</td>\n",
       "      <td>Archie</td>\n",
       "      <td>NaN</td>\n",
       "      <td>3712.0</td>\n",
       "      <td>23230.0</td>\n",
       "    </tr>\n",
       "  </tbody>\n",
       "</table>\n",
       "</div>"
      ],
      "text/plain": [
       "             tweet_id                  timestamp              source  \\\n",
       "0  892420643555336193  2017-08-01 16:23:56+00:00  Twitter for iPhone   \n",
       "1  892177421306343426  2017-08-01 00:17:27+00:00  Twitter for iPhone   \n",
       "2  891815181378084864  2017-07-31 00:18:03+00:00  Twitter for iPhone   \n",
       "\n",
       "                                                text  rating_numerator  \\\n",
       "0  This is Phineas. He's a mystical boy. Only eve...                13   \n",
       "1  This is Tilly. She's just checking pup on you....                13   \n",
       "2  This is Archie. He is a rare Norwegian Pouncin...                12   \n",
       "\n",
       "   rating_denominator     name dog_stage  retweet_count  favorite_count  \n",
       "0                  10  Phineas       NaN         7561.0         35745.0  \n",
       "1                  10    Tilly       NaN         5601.0         30882.0  \n",
       "2                  10   Archie       NaN         3712.0         23230.0  "
      ]
     },
     "execution_count": 3,
     "metadata": {},
     "output_type": "execute_result"
    }
   ],
   "source": [
    "archive_master.head(3)       "
   ]
  },
  {
   "cell_type": "code",
   "execution_count": 4,
   "metadata": {},
   "outputs": [
    {
     "data": {
      "text/html": [
       "<div>\n",
       "<style scoped>\n",
       "    .dataframe tbody tr th:only-of-type {\n",
       "        vertical-align: middle;\n",
       "    }\n",
       "\n",
       "    .dataframe tbody tr th {\n",
       "        vertical-align: top;\n",
       "    }\n",
       "\n",
       "    .dataframe thead th {\n",
       "        text-align: right;\n",
       "    }\n",
       "</style>\n",
       "<table border=\"1\" class=\"dataframe\">\n",
       "  <thead>\n",
       "    <tr style=\"text-align: right;\">\n",
       "      <th></th>\n",
       "      <th>tweet_id</th>\n",
       "      <th>jpg_url</th>\n",
       "      <th>img_num</th>\n",
       "      <th>p1</th>\n",
       "      <th>p1_conf</th>\n",
       "      <th>p1_dog</th>\n",
       "      <th>p2</th>\n",
       "      <th>p2_conf</th>\n",
       "      <th>p2_dog</th>\n",
       "      <th>p3</th>\n",
       "      <th>p3_conf</th>\n",
       "      <th>p3_dog</th>\n",
       "    </tr>\n",
       "  </thead>\n",
       "  <tbody>\n",
       "    <tr>\n",
       "      <th>0</th>\n",
       "      <td>666020888022790149</td>\n",
       "      <td>https://pbs.twimg.com/media/CT4udn0WwAA0aMy.jpg</td>\n",
       "      <td>1</td>\n",
       "      <td>Welsh Springer Spaniel</td>\n",
       "      <td>0.465074</td>\n",
       "      <td>True</td>\n",
       "      <td>Collie</td>\n",
       "      <td>0.156665</td>\n",
       "      <td>True</td>\n",
       "      <td>Shetland Sheepdog</td>\n",
       "      <td>0.061428</td>\n",
       "      <td>True</td>\n",
       "    </tr>\n",
       "    <tr>\n",
       "      <th>1</th>\n",
       "      <td>666029285002620928</td>\n",
       "      <td>https://pbs.twimg.com/media/CT42GRgUYAA5iDo.jpg</td>\n",
       "      <td>1</td>\n",
       "      <td>Redbone</td>\n",
       "      <td>0.506826</td>\n",
       "      <td>True</td>\n",
       "      <td>Miniature Pinscher</td>\n",
       "      <td>0.074192</td>\n",
       "      <td>True</td>\n",
       "      <td>Rhodesian Ridgeback</td>\n",
       "      <td>0.072010</td>\n",
       "      <td>True</td>\n",
       "    </tr>\n",
       "    <tr>\n",
       "      <th>2</th>\n",
       "      <td>666033412701032449</td>\n",
       "      <td>https://pbs.twimg.com/media/CT4521TWwAEvMyu.jpg</td>\n",
       "      <td>1</td>\n",
       "      <td>German Shepherd</td>\n",
       "      <td>0.596461</td>\n",
       "      <td>True</td>\n",
       "      <td>Malinois</td>\n",
       "      <td>0.138584</td>\n",
       "      <td>True</td>\n",
       "      <td>Bloodhound</td>\n",
       "      <td>0.116197</td>\n",
       "      <td>True</td>\n",
       "    </tr>\n",
       "    <tr>\n",
       "      <th>3</th>\n",
       "      <td>666044226329800704</td>\n",
       "      <td>https://pbs.twimg.com/media/CT5Dr8HUEAA-lEu.jpg</td>\n",
       "      <td>1</td>\n",
       "      <td>Rhodesian Ridgeback</td>\n",
       "      <td>0.408143</td>\n",
       "      <td>True</td>\n",
       "      <td>Redbone</td>\n",
       "      <td>0.360687</td>\n",
       "      <td>True</td>\n",
       "      <td>Miniature Pinscher</td>\n",
       "      <td>0.222752</td>\n",
       "      <td>True</td>\n",
       "    </tr>\n",
       "    <tr>\n",
       "      <th>4</th>\n",
       "      <td>666049248165822465</td>\n",
       "      <td>https://pbs.twimg.com/media/CT5IQmsXIAAKY4A.jpg</td>\n",
       "      <td>1</td>\n",
       "      <td>Miniature Pinscher</td>\n",
       "      <td>0.560311</td>\n",
       "      <td>True</td>\n",
       "      <td>Rottweiler</td>\n",
       "      <td>0.243682</td>\n",
       "      <td>True</td>\n",
       "      <td>Doberman</td>\n",
       "      <td>0.154629</td>\n",
       "      <td>True</td>\n",
       "    </tr>\n",
       "  </tbody>\n",
       "</table>\n",
       "</div>"
      ],
      "text/plain": [
       "             tweet_id                                          jpg_url  \\\n",
       "0  666020888022790149  https://pbs.twimg.com/media/CT4udn0WwAA0aMy.jpg   \n",
       "1  666029285002620928  https://pbs.twimg.com/media/CT42GRgUYAA5iDo.jpg   \n",
       "2  666033412701032449  https://pbs.twimg.com/media/CT4521TWwAEvMyu.jpg   \n",
       "3  666044226329800704  https://pbs.twimg.com/media/CT5Dr8HUEAA-lEu.jpg   \n",
       "4  666049248165822465  https://pbs.twimg.com/media/CT5IQmsXIAAKY4A.jpg   \n",
       "\n",
       "   img_num                      p1   p1_conf  p1_dog                  p2  \\\n",
       "0        1  Welsh Springer Spaniel  0.465074    True              Collie   \n",
       "1        1                 Redbone  0.506826    True  Miniature Pinscher   \n",
       "2        1         German Shepherd  0.596461    True            Malinois   \n",
       "3        1     Rhodesian Ridgeback  0.408143    True             Redbone   \n",
       "4        1      Miniature Pinscher  0.560311    True          Rottweiler   \n",
       "\n",
       "    p2_conf  p2_dog                   p3   p3_conf  p3_dog  \n",
       "0  0.156665    True    Shetland Sheepdog  0.061428    True  \n",
       "1  0.074192    True  Rhodesian Ridgeback  0.072010    True  \n",
       "2  0.138584    True           Bloodhound  0.116197    True  \n",
       "3  0.360687    True   Miniature Pinscher  0.222752    True  \n",
       "4  0.243682    True             Doberman  0.154629    True  "
      ]
     },
     "execution_count": 4,
     "metadata": {},
     "output_type": "execute_result"
    }
   ],
   "source": [
    "predictions_master.head()"
   ]
  },
  {
   "cell_type": "markdown",
   "metadata": {},
   "source": [
    "## Insights \n",
    "\n",
    "#### 1. The Popularity of Dog Stage"
   ]
  },
  {
   "cell_type": "code",
   "execution_count": 5,
   "metadata": {
    "scrolled": false
   },
   "outputs": [
    {
     "data": {
      "text/plain": [
       "Text(0.5, 1.0, 'The Number of Dogs at Each Stage')"
      ]
     },
     "execution_count": 5,
     "metadata": {},
     "output_type": "execute_result"
    },
    {
     "data": {
      "image/png": "[encoded data removed]",
      "text/plain": [
       "<Figure size 432x288 with 1 Axes>"
      ]
     },
     "metadata": {
      "needs_background": "light"
     },
     "output_type": "display_data"
    }
   ],
   "source": [
    "base_color = sns.color_palette()[0]\n",
    "stage_order = archive_master.dog_stage.value_counts().index\n",
    "sns.countplot(data =archive_master, x = 'dog_stage' , color = base_color, order = stage_order)\n",
    "plt.title('The Number of Dogs at Each Stage')"
   ]
  },
  {
   "cell_type": "code",
   "execution_count": 6,
   "metadata": {},
   "outputs": [
    {
     "data": {
      "text/plain": [
       "Text(0.5, 1.0, 'The Number of Counts at Each Stage')"
      ]
     },
     "execution_count": 6,
     "metadata": {},
     "output_type": "execute_result"
    },
    {
     "data": {
      "image/png": "[encoded data removed]",
      "text/plain": [
       "<Figure size 432x288 with 1 Axes>"
      ]
     },
     "metadata": {
      "needs_background": "light"
     },
     "output_type": "display_data"
    }
   ],
   "source": [
    "stage_order=['pupper','doggo','puppo','floofer']\n",
    "retweet_counts_avg=archive_master.groupby('dog_stage')[['retweet_count', 'favorite_count']].mean()\n",
    "ax = retweet_counts_avg.loc[stage_order].plot(kind=\"bar\")\n",
    "plt.xticks(rotation =360)\n",
    "plt.title('The Number of Counts at Each Stage')"
   ]
  },
  {
   "cell_type": "markdown",
   "metadata": {},
   "source": [
    "> The first bar chart of dog stage shows that the twitter texts that puppers are mentioned is highly dominated in the Twitter account of #WeRateDogs. The second mostly mentioned dog is \"doggo\". However, the number of doggos mentioned in the texts is still below the half of puppers. People are more likely to click the favorites than retweet. Regardless of dog categories, the number of favourite counts is always larger than that of retweet counts. According to the number of counts, \"doggo\" and \"puppo\" are the most popular types of dog in comparsion with \"pupper\" and \"floofer\"."
   ]
  },
  {
   "cell_type": "markdown",
   "metadata": {},
   "source": [
    "#### 2. The Method of Accessing to Twitter"
   ]
  },
  {
   "cell_type": "code",
   "execution_count": 7,
   "metadata": {
    "scrolled": true
   },
   "outputs": [
    {
     "data": {
      "text/plain": [
       "<matplotlib.axes._subplots.AxesSubplot at 0x2957ade7488>"
      ]
     },
     "execution_count": 7,
     "metadata": {},
     "output_type": "execute_result"
    },
    {
     "data": {
      "image/png": "[encoded data removed]",
      "text/plain": [
       "<Figure size 432x288 with 1 Axes>"
      ]
     },
     "metadata": {
      "needs_background": "light"
     },
     "output_type": "display_data"
    }
   ],
   "source": [
    "# Create the bar plot\n",
    "base_color = sns.color_palette()[0]\n",
    "source_order = archive_master.source.value_counts().index\n",
    "sns.countplot(data =archive_master, y = 'source' , color = base_color, order = source_order)"
   ]
  },
  {
   "cell_type": "code",
   "execution_count": 8,
   "metadata": {},
   "outputs": [
    {
     "data": {
      "text/plain": [
       "source\n",
       "TweetDeck              0.004669\n",
       "Twitter Web Client     0.014007\n",
       "Twitter for iPhone     0.942699\n",
       "Vine - Make a Scene    0.038625\n",
       "Name: tweet_id, dtype: float64"
      ]
     },
     "execution_count": 8,
     "metadata": {},
     "output_type": "execute_result"
    }
   ],
   "source": [
    "archive_master.groupby('source')['tweet_id'].count()/archive_master['tweet_id'].count()"
   ]
  },
  {
   "cell_type": "markdown",
   "metadata": {},
   "source": [
    "> According to the bar plot, more than 90% of users access to the twitter account through iPhone. Other options are barely used. "
   ]
  },
  {
   "cell_type": "markdown",
   "metadata": {},
   "source": [
    "#### 3. The Number of Retweet- and Favorite-counts"
   ]
  },
  {
   "cell_type": "code",
   "execution_count": 9,
   "metadata": {},
   "outputs": [
    {
     "data": {
      "image/png": "[encoded data removed]",
      "text/plain": [
       "<Figure size 432x288 with 1 Axes>"
      ]
     },
     "metadata": {
      "needs_background": "light"
     },
     "output_type": "display_data"
    }
   ],
   "source": [
    "limit = np.nanpercentile(archive_master['retweet_count'], 95)\n",
    "parameter = archive_master['retweet_count'] < limit\n",
    "data = archive_master['retweet_count'][parameter]\n",
    "plt.hist(data, bins = 9, range = [0, limit])\n",
    "plt.title(\"Retweet Counts\")\n",
    "plt.xlabel(\"Number of Retweets\")\n",
    "plt.ylabel(\"Counts\")\n",
    "plt.show()"
   ]
  },
  {
   "cell_type": "code",
   "execution_count": 10,
   "metadata": {},
   "outputs": [
    {
     "data": {
      "image/png": "[encoded data removed]",
      "text/plain": [
       "<Figure size 432x288 with 1 Axes>"
      ]
     },
     "metadata": {
      "needs_background": "light"
     },
     "output_type": "display_data"
    }
   ],
   "source": [
    "limit = np.nanpercentile(archive_master['favorite_count'], 95)\n",
    "parameter = archive_master['favorite_count'] < limit\n",
    "data = archive_master['favorite_count'][parameter]\n",
    "plt.hist(data, range = [0, limit])\n",
    "plt.title(\"Favorite Counts\")\n",
    "plt.xlabel(\"Number of Favorites\")\n",
    "plt.ylabel(\"Counts\")\n",
    "plt.show()"
   ]
  },
  {
   "cell_type": "markdown",
   "metadata": {},
   "source": [
    "> Then I plot the distirbution of retweets- and favorite counts to get an insight about popularity of tweets. Both show similar distributions: highly skewed to the right. This indicates that there are much more tweet_ids which received small number of retweets and favorites than tweet_ids with large number of countings. As the number of retweet- and favorite counts is increasing, the number postings with great many counts are exponentially decreasing."
   ]
  },
  {
   "cell_type": "markdown",
   "metadata": {},
   "source": [
    "#### 4. Relationship between Retweets and Favorites"
   ]
  },
  {
   "cell_type": "code",
   "execution_count": 11,
   "metadata": {},
   "outputs": [
    {
     "data": {
      "image/png": "[encoded data removed]",
      "text/plain": [
       "<Figure size 432x288 with 1 Axes>"
      ]
     },
     "metadata": {
      "needs_background": "light"
     },
     "output_type": "display_data"
    }
   ],
   "source": [
    "retweet = archive_master.retweet_count\n",
    "favorite = archive_master.favorite_count\n",
    "plt.scatter(favorite, retweet)\n",
    "plt.title(\"Retweet Counts vs. Favorite Counts\")\n",
    "plt.ylabel(\"Retweet Counts\")\n",
    "plt.xlabel(\"Favorite Counts\")\n",
    "plt.show()"
   ]
  },
  {
   "cell_type": "code",
   "execution_count": 12,
   "metadata": {},
   "outputs": [
    {
     "name": "stdout",
     "output_type": "stream",
     "text": [
      "Pearsons correlation: 0.802\n"
     ]
    }
   ],
   "source": [
    "correlation = retweet.corr(favorite)\n",
    "print('Pearsons correlation: %.3f' % correlation)"
   ]
  },
  {
   "cell_type": "markdown",
   "metadata": {},
   "source": [
    "> The number of retweet counts are strongly and positively correlated with the number of favorite counts. Its correlation coefficient is 0.802. This indicates, in general, the more favorites a tweet posting earns, the more retweets the posting is likely to get. "
   ]
  },
  {
   "cell_type": "markdown",
   "metadata": {},
   "source": [
    "#### 5. The Proportion of Image Predictions at the First Stage"
   ]
  },
  {
   "cell_type": "code",
   "execution_count": 13,
   "metadata": {
    "scrolled": false
   },
   "outputs": [
    {
     "data": {
      "text/plain": [
       "p1_dog\n",
       "False    26.168675\n",
       "True     73.831325\n",
       "Name: tweet_id, dtype: float64"
      ]
     },
     "execution_count": 13,
     "metadata": {},
     "output_type": "execute_result"
    }
   ],
   "source": [
    "n_points = predictions_master.shape[0]\n",
    "predictions_master.groupby('p1_dog')['tweet_id'].count()/n_points*100"
   ]
  },
  {
   "cell_type": "markdown",
   "metadata": {},
   "source": [
    "> Finally, I calcuated the [accuracy score](https://machinelearningmastery.com/classification-accuracy-is-not-enough-more-performance-measures-you-can-use/) of the algorithm, which used for image predictions. It is the number of correct predictions made divided by the total number of predictions made, multiplied by 100 to turn it into a percentage. The algorithm achieved 73.83% of accuracy score. "
   ]
  },
  {
   "cell_type": "markdown",
   "metadata": {},
   "source": [
    "## Summary"
   ]
  },
  {
   "cell_type": "markdown",
   "metadata": {},
   "source": [
    ">- According to the bar plots, we can imply that 'Pupper' is the most frequently uploaded images in '@WeRateDogs', while 'Floofer' is very rare in this page. Interestingly, 'Pupper' earns the least number of retweet and favorite counts comparing to other categories. On the other hand, ‘Puppo’ and 'Doggo' show high popularity in this twitter community.\n",
    ">- Many users access to '@WeRateDogs' using twitter app for iPhone. Other people connect to twitter through the application:  Vine – Make A Scene. This is an iPhone app which can create short videos and share them. This video social sharing iOS app is cooperated with Twitter, so that users can sign into the Vine iPhone app with a Twitter authorization. Also, there are a few people who enjoy twitter through twitter's website or TweekDeck(personal browser).\n",
    ">- Most images earn less than 1000 retweets and there are a few images which obtain more than 8000 number of retweets. Similarly, a lot of images received less than 2,500 favorites, while only a few images could earn more than 25,000 favorites. As shown in the both histograms, the distributions of 'retweet_count' and 'favorite_count' look pretty much similar. The number of images with higher popularity decrease exponentially.\n",
    ">- The scatter plot indicates a strong positive relationship between retweet counts and favorite counts. The correlation coefficient value is 0.802. \n",
    ">- Finally, I analyse the proprotion of images in the WeRateDogs Twitter are predicted as a dog in the first place. It turns out that the algorithm predicted about 73.83% of images as a dog at the first prediction."
   ]
  }
 ],
 "metadata": {
  "kernelspec": {
   "display_name": "Python 3",
   "language": "python",
   "name": "python3"
  },
  "language_info": {
   "codemirror_mode": {
    "name": "ipython",
    "version": 3
   },
   "file_extension": ".py",
   "mimetype": "text/x-python",
   "name": "python",
   "nbconvert_exporter": "python",
   "pygments_lexer": "ipython3",
   "version": "3.7.6"
  }
 },
 "nbformat": 4,
 "nbformat_minor": 4
}
